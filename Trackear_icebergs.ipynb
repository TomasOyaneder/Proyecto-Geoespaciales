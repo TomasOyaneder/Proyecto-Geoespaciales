{
 "cells": [
  {
   "cell_type": "markdown",
   "metadata": {},
   "source": [
    "## Tracking de Icebergs"
   ]
  },
  {
   "cell_type": "code",
   "execution_count": 2,
   "metadata": {},
   "outputs": [],
   "source": [
    "import warnings\n",
    "warnings.filterwarnings('ignore')\n",
    "import numpy as np\n",
    "import pandas as pd\n",
    "import datetime as dt\n",
    "import matplotlib.pyplot as plt\n",
    "import geopandas as gpd\n",
    "from shapely.geometry import shape, mapping\n",
    "import json\n",
    "import geemap,ee\n",
    "import folium\n",
    "ee.Authenticate()\n",
    "ee.Initialize()"
   ]
  },
  {
   "cell_type": "markdown",
   "metadata": {},
   "source": [
    "- Primero definimos nuestro icebergs de interes\n",
    "\n",
    "Para este proceso, directamente en Google engine seleccionamos manualmente el icebreg de interes. Se puede ver la seleccion del iceberg en el siguiente link: https://code.earthengine.google.com/05e082f6fec74c5efd69e7b96c366904"
   ]
  },
  {
   "cell_type": "code",
   "execution_count": 9,
   "metadata": {},
   "outputs": [
    {
     "data": {
      "text/html": [
       "\n",
       "            <style>\n",
       "                .geemap-dark {\n",
       "                    --jp-widgets-color: white;\n",
       "                    --jp-widgets-label-color: white;\n",
       "                    --jp-ui-font-color1: white;\n",
       "                    --jp-layout-color2: #454545;\n",
       "                    background-color: #383838;\n",
       "                }\n",
       "\n",
       "                .geemap-dark .jupyter-button {\n",
       "                    --jp-layout-color3: #383838;\n",
       "                }\n",
       "\n",
       "                .geemap-colab {\n",
       "                    background-color: var(--colab-primary-surface-color, white);\n",
       "                }\n",
       "\n",
       "                .geemap-colab .jupyter-button {\n",
       "                    --jp-layout-color3: var(--colab-primary-surface-color, white);\n",
       "                }\n",
       "            </style>\n",
       "            "
      ],
      "text/plain": [
       "<IPython.core.display.HTML object>"
      ]
     },
     "metadata": {},
     "output_type": "display_data"
    }
   ],
   "source": [
    "df = pd.read_csv(\"Icebergs\\iceberg_0003_2020-06-01.csv\")\n",
    "df['geometry'] = df['.geo'].apply(lambda x: shape(json.loads(x)))\n",
    "\n",
    "gdf = gpd.GeoDataFrame(df, geometry='geometry').set_crs('epsg:4326', inplace=True)"
   ]
  },
  {
   "cell_type": "code",
   "execution_count": 10,
   "metadata": {},
   "outputs": [
    {
     "data": {
      "text/html": [
       "\n",
       "            <style>\n",
       "                .geemap-dark {\n",
       "                    --jp-widgets-color: white;\n",
       "                    --jp-widgets-label-color: white;\n",
       "                    --jp-ui-font-color1: white;\n",
       "                    --jp-layout-color2: #454545;\n",
       "                    background-color: #383838;\n",
       "                }\n",
       "\n",
       "                .geemap-dark .jupyter-button {\n",
       "                    --jp-layout-color3: #383838;\n",
       "                }\n",
       "\n",
       "                .geemap-colab {\n",
       "                    background-color: var(--colab-primary-surface-color, white);\n",
       "                }\n",
       "\n",
       "                .geemap-colab .jupyter-button {\n",
       "                    --jp-layout-color3: var(--colab-primary-surface-color, white);\n",
       "                }\n",
       "            </style>\n",
       "            "
      ],
      "text/plain": [
       "<IPython.core.display.HTML object>"
      ]
     },
     "metadata": {},
     "output_type": "display_data"
    },
    {
     "data": {
      "text/plain": [
       "<Axes: >"
      ]
     },
     "execution_count": 10,
     "metadata": {},
     "output_type": "execute_result"
    },
    {
     "data": {
      "image/png": "[encoded data removed]",
      "text/plain": [
       "<Figure size 640x480 with 1 Axes>"
      ]
     },
     "metadata": {},
     "output_type": "display_data"
    }
   ],
   "source": [
    "gdf[\"geometry\"].plot()"
   ]
  },
  {
   "cell_type": "markdown",
   "metadata": {},
   "source": [
    "- Luego, haciendo comparativas de similitud, localizamos el mismo iceberg en una imagen posterior. (Con un cierto margen de error)"
   ]
  },
  {
   "cell_type": "markdown",
   "metadata": {},
   "source": [
    "#### 1. Pasamos nuestro archivo local a una Feature collection"
   ]
  },
  {
   "cell_type": "code",
   "execution_count": 11,
   "metadata": {},
   "outputs": [
    {
     "data": {
      "text/html": [
       "\n",
       "            <style>\n",
       "                .geemap-dark {\n",
       "                    --jp-widgets-color: white;\n",
       "                    --jp-widgets-label-color: white;\n",
       "                    --jp-ui-font-color1: white;\n",
       "                    --jp-layout-color2: #454545;\n",
       "                    background-color: #383838;\n",
       "                }\n",
       "\n",
       "                .geemap-dark .jupyter-button {\n",
       "                    --jp-layout-color3: #383838;\n",
       "                }\n",
       "\n",
       "                .geemap-colab {\n",
       "                    background-color: var(--colab-primary-surface-color, white);\n",
       "                }\n",
       "\n",
       "                .geemap-colab .jupyter-button {\n",
       "                    --jp-layout-color3: var(--colab-primary-surface-color, white);\n",
       "                }\n",
       "            </style>\n",
       "            "
      ],
      "text/plain": [
       "<IPython.core.display.HTML object>"
      ]
     },
     "metadata": {},
     "output_type": "display_data"
    }
   ],
   "source": [
    "gdf.columns = [col.replace('.', '_') for col in gdf.columns]\n",
    "\n",
    "# Verificamos que todas las columnas son strings\n",
    "for col in gdf.columns:\n",
    "    if col != 'geometry':\n",
    "        gdf[col] = gdf[col].astype(str)\n",
    "\n",
    "# Convertimos el GeoDataFrame a una lista de Features\n",
    "features = []\n",
    "for _, row in gdf.iterrows():\n",
    "    geom = ee.Geometry(mapping(row['geometry']))\n",
    "    feature = ee.Feature(geom, row.drop('geometry').to_dict())\n",
    "    features.append(feature)\n",
    "\n",
    "\n",
    "iceberg = ee.FeatureCollection(features)\n"
   ]
  },
  {
   "cell_type": "markdown",
   "metadata": {},
   "source": [
    "#### 2. Una vez obtenida la feature collection del iceberg, obtenemos las imagenes satelitales de esté.\n",
    "\n",
    "https://developers.google.com/earth-engine/datasets/catalog/COPERNICUS_S1_GRD"
   ]
  },
  {
   "cell_type": "code",
   "execution_count": 12,
   "metadata": {},
   "outputs": [
    {
     "data": {
      "text/html": [
       "\n",
       "            <style>\n",
       "                .geemap-dark {\n",
       "                    --jp-widgets-color: white;\n",
       "                    --jp-widgets-label-color: white;\n",
       "                    --jp-ui-font-color1: white;\n",
       "                    --jp-layout-color2: #454545;\n",
       "                    background-color: #383838;\n",
       "                }\n",
       "\n",
       "                .geemap-dark .jupyter-button {\n",
       "                    --jp-layout-color3: #383838;\n",
       "                }\n",
       "\n",
       "                .geemap-colab {\n",
       "                    background-color: var(--colab-primary-surface-color, white);\n",
       "                }\n",
       "\n",
       "                .geemap-colab .jupyter-button {\n",
       "                    --jp-layout-color3: var(--colab-primary-surface-color, white);\n",
       "                }\n",
       "            </style>\n",
       "            "
      ],
      "text/plain": [
       "<IPython.core.display.HTML object>"
      ]
     },
     "metadata": {},
     "output_type": "display_data"
    }
   ],
   "source": [
    "#Las imagenes se tomaran cada 2 dias por ende partimos desde el 1 al 3\n",
    "fecha_inicio = '2020-06-01'\n",
    "fecha_fin = '2020-06-03'"
   ]
  },
  {
   "cell_type": "code",
   "execution_count": 13,
   "metadata": {},
   "outputs": [
    {
     "data": {
      "text/html": [
       "\n",
       "            <style>\n",
       "                .geemap-dark {\n",
       "                    --jp-widgets-color: white;\n",
       "                    --jp-widgets-label-color: white;\n",
       "                    --jp-ui-font-color1: white;\n",
       "                    --jp-layout-color2: #454545;\n",
       "                    background-color: #383838;\n",
       "                }\n",
       "\n",
       "                .geemap-dark .jupyter-button {\n",
       "                    --jp-layout-color3: #383838;\n",
       "                }\n",
       "\n",
       "                .geemap-colab {\n",
       "                    background-color: var(--colab-primary-surface-color, white);\n",
       "                }\n",
       "\n",
       "                .geemap-colab .jupyter-button {\n",
       "                    --jp-layout-color3: var(--colab-primary-surface-color, white);\n",
       "                }\n",
       "            </style>\n",
       "            "
      ],
      "text/plain": [
       "<IPython.core.display.HTML object>"
      ]
     },
     "metadata": {},
     "output_type": "display_data"
    }
   ],
   "source": [
    "#Se obtienen las imagenes del satelite iniciales\n",
    "S1A = ee.ImageCollection(\"COPERNICUS/S1_GRD\")\\\n",
    ".filterDate(fecha_inicio, fecha_fin)\\\n",
    ".filterBounds(iceberg)\\\n",
    ".filter(ee.Filter.listContains('transmitterReceiverPolarisation', \"HH\"))\n",
    "\n",
    "band = [\"HH\", \"angle\"]\n",
    "\n",
    "img = S1A.select(band).mean().clip(iceberg) "
   ]
  },
  {
   "cell_type": "markdown",
   "metadata": {},
   "source": [
    "#### 3. Planteamos una forma de identificar el iceberg. Esta forma requiere calcular cómo varía la distancia desde el centroide hacia los bordes del iceberg. Para ello:"
   ]
  },
  {
   "cell_type": "markdown",
   "metadata": {},
   "source": [
    "- Definimos una capa de cobertura del iceberg, la cual vale 1 siempre que se abarca el iceberg."
   ]
  },
  {
   "cell_type": "code",
   "execution_count": 14,
   "metadata": {},
   "outputs": [
    {
     "data": {
      "text/html": [
       "\n",
       "            <style>\n",
       "                .geemap-dark {\n",
       "                    --jp-widgets-color: white;\n",
       "                    --jp-widgets-label-color: white;\n",
       "                    --jp-ui-font-color1: white;\n",
       "                    --jp-layout-color2: #454545;\n",
       "                    background-color: #383838;\n",
       "                }\n",
       "\n",
       "                .geemap-dark .jupyter-button {\n",
       "                    --jp-layout-color3: #383838;\n",
       "                }\n",
       "\n",
       "                .geemap-colab {\n",
       "                    background-color: var(--colab-primary-surface-color, white);\n",
       "                }\n",
       "\n",
       "                .geemap-colab .jupyter-button {\n",
       "                    --jp-layout-color3: var(--colab-primary-surface-color, white);\n",
       "                }\n",
       "            </style>\n",
       "            "
      ],
      "text/plain": [
       "<IPython.core.display.HTML object>"
      ]
     },
     "metadata": {},
     "output_type": "display_data"
    }
   ],
   "source": [
    "cover = img.select('HH').clip(iceberg).multiply(0).add(1)\n",
    "cover = cover.addBands(ee.Image.pixelLonLat())"
   ]
  },
  {
   "cell_type": "markdown",
   "metadata": {},
   "source": [
    "- Definimos una Imagen que vale 1 en el centroide del Iceberg."
   ]
  },
  {
   "cell_type": "code",
   "execution_count": 15,
   "metadata": {},
   "outputs": [
    {
     "data": {
      "text/html": [
       "\n",
       "            <style>\n",
       "                .geemap-dark {\n",
       "                    --jp-widgets-color: white;\n",
       "                    --jp-widgets-label-color: white;\n",
       "                    --jp-ui-font-color1: white;\n",
       "                    --jp-layout-color2: #454545;\n",
       "                    background-color: #383838;\n",
       "                }\n",
       "\n",
       "                .geemap-dark .jupyter-button {\n",
       "                    --jp-layout-color3: #383838;\n",
       "                }\n",
       "\n",
       "                .geemap-colab {\n",
       "                    background-color: var(--colab-primary-surface-color, white);\n",
       "                }\n",
       "\n",
       "                .geemap-colab .jupyter-button {\n",
       "                    --jp-layout-color3: var(--colab-primary-surface-color, white);\n",
       "                }\n",
       "            </style>\n",
       "            "
      ],
      "text/plain": [
       "<IPython.core.display.HTML object>"
      ]
     },
     "metadata": {},
     "output_type": "display_data"
    }
   ],
   "source": [
    "centroid = iceberg.geometry().centroid(10).getInfo()['coordinates']\n",
    "\n",
    "sources = ee.Image().toByte().paint(ee.Geometry.Point(centroid), 1)"
   ]
  },
  {
   "cell_type": "markdown",
   "metadata": {},
   "source": [
    "- Calculamos el costo acumulativo para recorrer la imagen desde el centroide del iceberg hasta los bordes del iceberg."
   ]
  },
  {
   "cell_type": "code",
   "execution_count": 16,
   "metadata": {},
   "outputs": [
    {
     "data": {
      "text/html": [
       "\n",
       "            <style>\n",
       "                .geemap-dark {\n",
       "                    --jp-widgets-color: white;\n",
       "                    --jp-widgets-label-color: white;\n",
       "                    --jp-ui-font-color1: white;\n",
       "                    --jp-layout-color2: #454545;\n",
       "                    background-color: #383838;\n",
       "                }\n",
       "\n",
       "                .geemap-dark .jupyter-button {\n",
       "                    --jp-layout-color3: #383838;\n",
       "                }\n",
       "\n",
       "                .geemap-colab {\n",
       "                    background-color: var(--colab-primary-surface-color, white);\n",
       "                }\n",
       "\n",
       "                .geemap-colab .jupyter-button {\n",
       "                    --jp-layout-color3: var(--colab-primary-surface-color, white);\n",
       "                }\n",
       "            </style>\n",
       "            "
      ],
      "text/plain": [
       "<IPython.core.display.HTML object>"
      ]
     },
     "metadata": {},
     "output_type": "display_data"
    }
   ],
   "source": [
    "cumulativeCost = cover.select('HH').cumulativeCost(\n",
    "    source = sources,\n",
    "    maxDistance = 30000,\n",
    "    geodeticDistance = True\n",
    ").clip(iceberg)\n",
    "\n",
    "result = cumulativeCost.reduceRegion(ee.Reducer.toList(), iceberg, scale=200, maxPixels=1e20)\n",
    "A = result.getInfo()['cumulative_cost'] "
   ]
  },
  {
   "cell_type": "markdown",
   "metadata": {},
   "source": [
    "- Calculamos un histograma de la distribucion de las distancias centroide-borde"
   ]
  },
  {
   "cell_type": "code",
   "execution_count": 17,
   "metadata": {},
   "outputs": [
    {
     "data": {
      "text/html": [
       "\n",
       "            <style>\n",
       "                .geemap-dark {\n",
       "                    --jp-widgets-color: white;\n",
       "                    --jp-widgets-label-color: white;\n",
       "                    --jp-ui-font-color1: white;\n",
       "                    --jp-layout-color2: #454545;\n",
       "                    background-color: #383838;\n",
       "                }\n",
       "\n",
       "                .geemap-dark .jupyter-button {\n",
       "                    --jp-layout-color3: #383838;\n",
       "                }\n",
       "\n",
       "                .geemap-colab {\n",
       "                    background-color: var(--colab-primary-surface-color, white);\n",
       "                }\n",
       "\n",
       "                .geemap-colab .jupyter-button {\n",
       "                    --jp-layout-color3: var(--colab-primary-surface-color, white);\n",
       "                }\n",
       "            </style>\n",
       "            "
      ],
      "text/plain": [
       "<IPython.core.display.HTML object>"
      ]
     },
     "metadata": {},
     "output_type": "display_data"
    },
    {
     "data": {
      "text/plain": [
       "Text(0, 0.5, 'N')"
      ]
     },
     "execution_count": 17,
     "metadata": {},
     "output_type": "execute_result"
    },
    {
     "data": {
      "image/png": "[encoded data removed]",
      "text/plain": [
       "<Figure size 600x200 with 1 Axes>"
      ]
     },
     "metadata": {},
     "output_type": "display_data"
    }
   ],
   "source": [
    "hist1 = {}\n",
    "\n",
    "scale = 200\n",
    "max_pix = 20000\n",
    "\n",
    "fig = plt.subplots(figsize = (6, 2), dpi = 100)\n",
    "hist1['reference'] = np.histogram(A, int(max_pix/scale), [0, max_pix])\n",
    "\n",
    "plt.plot(hist1['reference'][1][:-1], hist1['reference'][0], color = \"k\", linewidth = 2)\n",
    "plt.xlabel(\"Distance from the centroid (m)\", fontsize = 12)\n",
    "plt.ylabel(\"N\", fontsize = 12)"
   ]
  },
  {
   "cell_type": "markdown",
   "metadata": {},
   "source": [
    "- Obtenemos el area real del iceberg"
   ]
  },
  {
   "cell_type": "code",
   "execution_count": 18,
   "metadata": {},
   "outputs": [
    {
     "data": {
      "text/html": [
       "\n",
       "            <style>\n",
       "                .geemap-dark {\n",
       "                    --jp-widgets-color: white;\n",
       "                    --jp-widgets-label-color: white;\n",
       "                    --jp-ui-font-color1: white;\n",
       "                    --jp-layout-color2: #454545;\n",
       "                    background-color: #383838;\n",
       "                }\n",
       "\n",
       "                .geemap-dark .jupyter-button {\n",
       "                    --jp-layout-color3: #383838;\n",
       "                }\n",
       "\n",
       "                .geemap-colab {\n",
       "                    background-color: var(--colab-primary-surface-color, white);\n",
       "                }\n",
       "\n",
       "                .geemap-colab .jupyter-button {\n",
       "                    --jp-layout-color3: var(--colab-primary-surface-color, white);\n",
       "                }\n",
       "            </style>\n",
       "            "
      ],
      "text/plain": [
       "<IPython.core.display.HTML object>"
      ]
     },
     "metadata": {},
     "output_type": "display_data"
    },
    {
     "name": "stdout",
     "output_type": "stream",
     "text": [
      "99911989.96066779\n"
     ]
    }
   ],
   "source": [
    "#Area en metros cuadrados\n",
    "area0 = iceberg.geometry().area(10).getInfo()\n",
    "print(area0)"
   ]
  },
  {
   "cell_type": "markdown",
   "metadata": {},
   "source": [
    "Se puede visualizar el iceberg para corroborar que se esteen calculando las medidas en el poligono adecuado."
   ]
  },
  {
   "cell_type": "code",
   "execution_count": 19,
   "metadata": {},
   "outputs": [
    {
     "data": {
      "text/html": [
       "\n",
       "            <style>\n",
       "                .geemap-dark {\n",
       "                    --jp-widgets-color: white;\n",
       "                    --jp-widgets-label-color: white;\n",
       "                    --jp-ui-font-color1: white;\n",
       "                    --jp-layout-color2: #454545;\n",
       "                    background-color: #383838;\n",
       "                }\n",
       "\n",
       "                .geemap-dark .jupyter-button {\n",
       "                    --jp-layout-color3: #383838;\n",
       "                }\n",
       "\n",
       "                .geemap-colab {\n",
       "                    background-color: var(--colab-primary-surface-color, white);\n",
       "                }\n",
       "\n",
       "                .geemap-colab .jupyter-button {\n",
       "                    --jp-layout-color3: var(--colab-primary-surface-color, white);\n",
       "                }\n",
       "            </style>\n",
       "            "
      ],
      "text/plain": [
       "<IPython.core.display.HTML object>"
      ]
     },
     "metadata": {},
     "output_type": "display_data"
    },
    {
     "data": {
      "application/vnd.jupyter.widget-view+json": {
       "model_id": "57449408f47b40ebb08cdff4098362df",
       "version_major": 2,
       "version_minor": 0
      },
      "text/plain": [
       "Map(center=[-74.48329954733886, -105.85766312550345], controls=(WidgetControl(options=['position', 'transparen…"
      ]
     },
     "metadata": {},
     "output_type": "display_data"
    }
   ],
   "source": [
    "Map = geemap.Map(center= [centroid[1], centroid[0]], zoom = 10)\n",
    "visParams1 = {\"bands\": ['HH'], \"min\": -30, \"max\": 0}\n",
    "Map.addLayer(img, visParams1, 'S1')\n",
    "Map"
   ]
  },
  {
   "cell_type": "markdown",
   "metadata": {},
   "source": [
    "#### 4. Ahora queremos Trackear nuestro iceberg en un lapso de tiempo usando lo anterior."
   ]
  },
  {
   "cell_type": "markdown",
   "metadata": {},
   "source": [
    "En cada iteración segmentaremos la zona objetivo usando snic eh identificaremos el iceberg de estudio usando lo anterior."
   ]
  },
  {
   "cell_type": "code",
   "execution_count": 25,
   "metadata": {},
   "outputs": [
    {
     "data": {
      "text/html": [
       "\n",
       "            <style>\n",
       "                .geemap-dark {\n",
       "                    --jp-widgets-color: white;\n",
       "                    --jp-widgets-label-color: white;\n",
       "                    --jp-ui-font-color1: white;\n",
       "                    --jp-layout-color2: #454545;\n",
       "                    background-color: #383838;\n",
       "                }\n",
       "\n",
       "                .geemap-dark .jupyter-button {\n",
       "                    --jp-layout-color3: #383838;\n",
       "                }\n",
       "\n",
       "                .geemap-colab {\n",
       "                    background-color: var(--colab-primary-surface-color, white);\n",
       "                }\n",
       "\n",
       "                .geemap-colab .jupyter-button {\n",
       "                    --jp-layout-color3: var(--colab-primary-surface-color, white);\n",
       "                }\n",
       "            </style>\n",
       "            "
      ],
      "text/plain": [
       "<IPython.core.display.HTML object>"
      ]
     },
     "metadata": {},
     "output_type": "display_data"
    }
   ],
   "source": [
    "ice_area = {}\n",
    "ice_centroid = {}\n",
    "mapid_seg = {}\n",
    "mapid_target = {}\n",
    "\n",
    "center = centroid\n",
    "\n",
    "buf_dist = 20000 # distancia desde el centroide para buscar icebergs\n",
    "\n",
    "#se instancia el mapa del cual se hara el trackeo\n",
    "map1 = folium.Map(location=[center[1], center[0]], zoom_start=7, height=550,width=700)"
   ]
  },
  {
   "cell_type": "markdown",
   "metadata": {},
   "source": [
    "Dias de estudio: Los dias de estudio son cruciales para el funcionamiento del codigo, si bien queremos trackear el iceberg por 1 año o mas, mientras mas dias pasan de estudio, mayor es la probabilidad de que se pierda nuestro iceberg. Para arreglar este problema ejecutamos el codigo en tandas de 3 o 6 meses dependiendo del iceberg. Este codigo toma un poco de tiempo asi que para hacer una demostracion, se trackeara el iceberg por 10 iteraciones."
   ]
  },
  {
   "cell_type": "code",
   "execution_count": 20,
   "metadata": {},
   "outputs": [
    {
     "data": {
      "text/html": [
       "\n",
       "            <style>\n",
       "                .geemap-dark {\n",
       "                    --jp-widgets-color: white;\n",
       "                    --jp-widgets-label-color: white;\n",
       "                    --jp-ui-font-color1: white;\n",
       "                    --jp-layout-color2: #454545;\n",
       "                    background-color: #383838;\n",
       "                }\n",
       "\n",
       "                .geemap-dark .jupyter-button {\n",
       "                    --jp-layout-color3: #383838;\n",
       "                }\n",
       "\n",
       "                .geemap-colab {\n",
       "                    background-color: var(--colab-primary-surface-color, white);\n",
       "                }\n",
       "\n",
       "                .geemap-colab .jupyter-button {\n",
       "                    --jp-layout-color3: var(--colab-primary-surface-color, white);\n",
       "                }\n",
       "            </style>\n",
       "            "
      ],
      "text/plain": [
       "<IPython.core.display.HTML object>"
      ]
     },
     "metadata": {},
     "output_type": "display_data"
    }
   ],
   "source": [
    "# Cuantos dias queremos estudiar\n",
    "day_range = range(0, 10)"
   ]
  },
  {
   "cell_type": "markdown",
   "metadata": {},
   "source": [
    "Calculo Area de cada iceberg"
   ]
  },
  {
   "cell_type": "code",
   "execution_count": 21,
   "metadata": {},
   "outputs": [
    {
     "data": {
      "text/html": [
       "\n",
       "            <style>\n",
       "                .geemap-dark {\n",
       "                    --jp-widgets-color: white;\n",
       "                    --jp-widgets-label-color: white;\n",
       "                    --jp-ui-font-color1: white;\n",
       "                    --jp-layout-color2: #454545;\n",
       "                    background-color: #383838;\n",
       "                }\n",
       "\n",
       "                .geemap-dark .jupyter-button {\n",
       "                    --jp-layout-color3: #383838;\n",
       "                }\n",
       "\n",
       "                .geemap-colab {\n",
       "                    background-color: var(--colab-primary-surface-color, white);\n",
       "                }\n",
       "\n",
       "                .geemap-colab .jupyter-button {\n",
       "                    --jp-layout-color3: var(--colab-primary-surface-color, white);\n",
       "                }\n",
       "            </style>\n",
       "            "
      ],
      "text/plain": [
       "<IPython.core.display.HTML object>"
      ]
     },
     "metadata": {},
     "output_type": "display_data"
    }
   ],
   "source": [
    "#decidir si mantener o no el parametro maxError=10\n",
    "def addArea(feature):\n",
    "    return feature.set({\"area\": feature.geometry().area(10), \"centroid\": feature.geometry().centroid(10)})"
   ]
  },
  {
   "cell_type": "code",
   "execution_count": 22,
   "metadata": {},
   "outputs": [
    {
     "data": {
      "text/html": [
       "\n",
       "            <style>\n",
       "                .geemap-dark {\n",
       "                    --jp-widgets-color: white;\n",
       "                    --jp-widgets-label-color: white;\n",
       "                    --jp-ui-font-color1: white;\n",
       "                    --jp-layout-color2: #454545;\n",
       "                    background-color: #383838;\n",
       "                }\n",
       "\n",
       "                .geemap-dark .jupyter-button {\n",
       "                    --jp-layout-color3: #383838;\n",
       "                }\n",
       "\n",
       "                .geemap-colab {\n",
       "                    background-color: var(--colab-primary-surface-color, white);\n",
       "                }\n",
       "\n",
       "                .geemap-colab .jupyter-button {\n",
       "                    --jp-layout-color3: var(--colab-primary-surface-color, white);\n",
       "                }\n",
       "            </style>\n",
       "            "
      ],
      "text/plain": [
       "<IPython.core.display.HTML object>"
      ]
     },
     "metadata": {},
     "output_type": "display_data"
    }
   ],
   "source": [
    "#En este dataframe se guardara informacion necesaria para hacer el estudio\n",
    "df_iceberg = pd.DataFrame(columns=['fecha', 'similaridad', 'area', 'centroide', 'poligono'])"
   ]
  },
  {
   "cell_type": "markdown",
   "metadata": {},
   "source": [
    "La siguiente celda se encarga del trackeo del iceberg."
   ]
  },
  {
   "cell_type": "code",
   "execution_count": 27,
   "metadata": {},
   "outputs": [
    {
     "data": {
      "text/html": [
       "\n",
       "            <style>\n",
       "                .geemap-dark {\n",
       "                    --jp-widgets-color: white;\n",
       "                    --jp-widgets-label-color: white;\n",
       "                    --jp-ui-font-color1: white;\n",
       "                    --jp-layout-color2: #454545;\n",
       "                    background-color: #383838;\n",
       "                }\n",
       "\n",
       "                .geemap-dark .jupyter-button {\n",
       "                    --jp-layout-color3: #383838;\n",
       "                }\n",
       "\n",
       "                .geemap-colab {\n",
       "                    background-color: var(--colab-primary-surface-color, white);\n",
       "                }\n",
       "\n",
       "                .geemap-colab .jupyter-button {\n",
       "                    --jp-layout-color3: var(--colab-primary-surface-color, white);\n",
       "                }\n",
       "            </style>\n",
       "            "
      ],
      "text/plain": [
       "<IPython.core.display.HTML object>"
      ]
     },
     "metadata": {},
     "output_type": "display_data"
    },
    {
     "name": "stdout",
     "output_type": "stream",
     "text": [
      "2020-06-01 ============================================\n",
      "Feature 0 >>> area: 103.73 km^2, centroid: [-105.865, -74.484], similarity: 0.932\n",
      "2020-06-03 ============================================\n",
      "Feature 0 >>> area: 98.7 km^2, centroid: [-105.863, -74.478], similarity: 0.981\n",
      "2020-06-05 ============================================\n",
      "Feature 0 >>> area: 97.75 km^2, centroid: [-105.917, -74.45], similarity: 0.786\n",
      "No hay imagenes para la fecha: 2020-06-07\n",
      "Se aumento la distancia de busqueda a 40000\n",
      "2020-06-09 ============================================\n",
      "Feature 0 >>> area: 96.4 km^2, centroid: [-106.124, -74.35], similarity: 0.929\n",
      "2020-06-11 ============================================\n",
      "Feature 0 >>> area: 89.3 km^2, centroid: [-106.164, -74.372], similarity: 0.864\n",
      "2020-06-13 ============================================\n",
      "Feature 0 >>> area: 98.88 km^2, centroid: [-106.078, -74.389], similarity: 0.932\n",
      "2020-06-15 ============================================\n",
      "Feature 0 >>> area: 98.7 km^2, centroid: [-106.067, -74.39], similarity: 0.936\n",
      "2020-06-17 ============================================\n",
      "Feature 0 >>> area: 95.67 km^2, centroid: [-106.145, -74.38], similarity: 0.906\n",
      "No hay imagenes para la fecha: 2020-06-19\n",
      "Se aumento la distancia de busqueda a 40000\n"
     ]
    },
    {
     "data": {
      "image/png": "[encoded data removed]",
      "text/plain": [
       "<Figure size 1000x500 with 1 Axes>"
      ]
     },
     "metadata": {},
     "output_type": "display_data"
    }
   ],
   "source": [
    "vectorscale = 40\n",
    "\n",
    "#este plot ayudara a visualizar la similitud de los histogramas\n",
    "fig = plt.subplots(figsize = (10, 5))\n",
    "plt.plot(hist1['reference'][1][:-1], hist1['reference'][0], label = \"reference\", color = \"k\", linestyle = \"--\")\n",
    "\n",
    "for day in day_range:\n",
    "    \n",
    "    month = dt.datetime.strptime(fecha_inicio, \"%Y-%m-%d\").month\n",
    "    band = [\"HH\", \"angle\"]\n",
    "    \n",
    "    #Circulo de busqueda de radio buf_dist\n",
    "    aoi = ee.Geometry.Point(center).buffer(buf_dist)\n",
    "\n",
    "    # Utilizamos las imagenes HH de Sentinel-1\n",
    "    S1A = ee.ImageCollection(\"COPERNICUS/S1_GRD\")\\\n",
    "    .filterDate(fecha_inicio, fecha_fin)\\\n",
    "    .filterBounds(aoi)\\\n",
    "    .filter(ee.Filter.listContains('transmitterReceiverPolarisation', \"HH\"))\n",
    "\n",
    "    #Si hay imagenes se ejecuta la busqueda\n",
    "    if S1A.size().getInfo() > 0:\n",
    "\n",
    "        #Se clipea para buscar en el circulo\n",
    "        imageA = S1A.select(band).mean().clip(aoi) \n",
    "\n",
    "        seeds = ee.Algorithms.Image.Segmentation.seedGrid(80);\n",
    "\n",
    "        # Kernel Gaussiano para suavizar la imagen \n",
    "        kernel = ee.Kernel.gaussian(3)\n",
    "        img1 = imageA.convolve(kernel)\n",
    "        img = img1.select(['HH', 'angle'], ['HH', 'angle'])\n",
    "        \n",
    "        \n",
    "        # segmentamos la imagen con SNIC\n",
    "        # size = 20, compactness= 5, connectivity= 8, neighborhoodSize = 256\n",
    "        snic = ee.Algorithms.Image.Segmentation.SNIC(img, 20, 5, 8, 256, seeds)\\\n",
    "        .select([\"HH_mean\", \"angle_mean\", \"clusters\"], [\"HH\", \"angle\", \"clusters\"])\n",
    "        \n",
    "        segments = snic.select(\"clusters\").reduceToVectors(\n",
    "            geometry = snic.geometry(),\n",
    "            scale = vectorscale,\n",
    "            geometryType = 'polygon',            \n",
    "            maxPixels = 1e20\n",
    "        )     \n",
    "        \n",
    "        segimageA = segments.reduceToImage(\n",
    "            properties = ['label'],\n",
    "            reducer = ee.Reducer.first()\n",
    "        ).rename('id')       \n",
    "\n",
    "        # dividimos los valores HH por los valores de la banda angle para mejorar el contraste entre los icebergs y el mar abierto o el hielo circundante.\n",
    "        ratio = snic.select(\"HH\").divide(snic.select(\"angle\"))\n",
    "        # mantenemos solo los valores mayores que -0.2 (icebergs)\n",
    "        icebergs = ratio.gt(-0.2).selfMask()     \n",
    "        \n",
    "        # convertimos los iceberg raster a vectores\n",
    "        vectors = icebergs.reduceToVectors(\n",
    "            geometry = icebergs.geometry(),\n",
    "            scale = vectorscale,\n",
    "            geometryType = 'polygon',            \n",
    "            maxPixels = 1e20)\n",
    "\n",
    "        # permitimos un margen de error del 20% en el area de los icebergs respecto al iceberg objetivo\n",
    "        area_max = area0 * 1.2\n",
    "        area_min = area0 * 0.8\n",
    "        # obtenemos el area y el centroide de los icebergs\n",
    "        areaAdded = vectors.map(addArea)\n",
    "        # filtramos los icebergs que tienen un area entre el 80% y el 120% del area objetivo\n",
    "        target = areaAdded.filter(ee.Filter.gt('area', area_min)).filter(ee.Filter.lt('area', area_max))\n",
    "        \n",
    "        num = target.size().getInfo()\n",
    "        features = target.getInfo()['features']\n",
    "        \n",
    "        print(fecha_inicio + \" ============================================\")\n",
    "        threshold = 0.7 #threshold de similitud para considerar un iceberg similar\n",
    "        find = False\n",
    "        candidates = []\n",
    "        \n",
    "        #Este for funciona siempre y cuando haya al menos 1 figura\n",
    "        for k in range(0, num): \n",
    "            \n",
    "            #se extraen los features necesarios \n",
    "            area = features[k]['properties']['area']\n",
    "            centroid = features[k]['properties']['centroid']['coordinates']\n",
    "            polygon = ee.FeatureCollection(ee.Geometry.Polygon(features[k]['geometry']['coordinates'][0]))\n",
    "            sources = ee.Image().toByte().paint(ee.Geometry.Point(centroid), 1)\n",
    "            covers = snic.select('HH').multiply(0).add(1)\n",
    "            \n",
    "            #Costos para el histograma\n",
    "            cumCost = covers.cumulativeCost(\n",
    "                source = sources,\n",
    "                maxDistance = 30000,\n",
    "                geodeticDistance = True\n",
    "            ).clip(polygon)\n",
    "\n",
    "            #Comparacion de histogramas\n",
    "            result = cumCost.reduceRegion(ee.Reducer.toList(), polygon, scale = 200)\n",
    "            cumdist = result.getInfo()['cumulative_cost']\n",
    "            B = np.histogram(cumdist, int(max_pix/scale), [0, max_pix]) \n",
    "            \n",
    "            diff = abs(hist1['reference'][0] - B[0])\n",
    "            similarity = 1-np.sum(diff)/np.sum(hist1['reference'][0])          \n",
    "            \n",
    "            print(\"Feature {0} >>> area: {1} km^2, centroid: [{2}, {3}], similarity: {4}\".format(\n",
    "                k, round(area/1e6,2), round(centroid[0],3), round(centroid[1], 3), round(similarity, 3)\n",
    "            ))                       \n",
    "            \n",
    "            #Si la similitud sobrepasa el threshold, se guardara el candidato\n",
    "            if similarity >= threshold: \n",
    "                threshold = similarity # al actualizar el threshold aca se asegura que el siguiente candidato tiene que ser mejor que el anterior\n",
    "                find = True\n",
    "                candidates.append((fecha_inicio, similarity, area, centroid, polygon, sources, covers, B))\n",
    "\n",
    "    # caso en el que no encuentra imagenes\n",
    "    else:\n",
    "        print(f'No hay imagenes para la fecha: {fecha_inicio}')\n",
    "        find = False\n",
    "    \n",
    "    #si encontro un candidato se guardan las variables necesarias en el dataframe\n",
    "    if find == True:\n",
    "\n",
    "        fecha_inicio = candidates[-1][0]\n",
    "        similarity = candidates[-1][1]\n",
    "        area = candidates[-1][2]\n",
    "        centroid = candidates[-1][3]\n",
    "        polygon = candidates[-1][4]\n",
    "\n",
    "        B = candidates[-1][7]\n",
    "        df_iceberg.loc[len(df_iceberg.index)] = [fecha_inicio, similarity, area, centroid, polygon]\n",
    "\n",
    "        ice_area[fecha_inicio] = area\n",
    "        ice_centroid[fecha_inicio] = centroid\n",
    "        hist1[fecha_inicio] = B \n",
    "        #histograma para comparar\n",
    "        plt.plot(B[1][:-1], B[0], label = fecha_inicio + \"_\" + str(k))\n",
    "                   \n",
    "        #se actualiza el nuevo centro de busqueda y se devuelve la distancia de busqueda\n",
    "        #al valor inicial en caso de haber sido aumentada\n",
    "        center = centroid\n",
    "        buf_dist = 20000\n",
    "    \n",
    "    # en caso de no haber encontrado un iceberg, se aumenta la distancia de busqueda para el siguiente set de imagenes\n",
    "    else:\n",
    "        buf_dist += 20000\n",
    "        if buf_dist >= 40000:\n",
    "            print(f'Se aumento la distancia de busqueda a {buf_dist}')\n",
    "  \n",
    "    # en caso de que el iceberg se haya alejado tanto que ya no sea razonable la busqueda\n",
    "    if (buf_dist > 260000): \n",
    "        print(\"!!! STOP !!! buffer {0} km ( {1} )\".format(buf_dist, fecha_inicio))\n",
    "        break\n",
    "\n",
    "    # finalmente se actualizan las fechas para la busqueda en los siguientes 2 dias\n",
    "    fecha_inicio = fecha_fin\n",
    "    fecha_fin = (dt.datetime.strptime(fecha_fin, \"%Y-%m-%d\") + dt.timedelta(days=2)).strftime(\"%Y-%m-%d\")"
   ]
  },
  {
   "cell_type": "code",
   "execution_count": 29,
   "metadata": {},
   "outputs": [
    {
     "data": {
      "text/html": [
       "\n",
       "            <style>\n",
       "                .geemap-dark {\n",
       "                    --jp-widgets-color: white;\n",
       "                    --jp-widgets-label-color: white;\n",
       "                    --jp-ui-font-color1: white;\n",
       "                    --jp-layout-color2: #454545;\n",
       "                    background-color: #383838;\n",
       "                }\n",
       "\n",
       "                .geemap-dark .jupyter-button {\n",
       "                    --jp-layout-color3: #383838;\n",
       "                }\n",
       "\n",
       "                .geemap-colab {\n",
       "                    background-color: var(--colab-primary-surface-color, white);\n",
       "                }\n",
       "\n",
       "                .geemap-colab .jupyter-button {\n",
       "                    --jp-layout-color3: var(--colab-primary-surface-color, white);\n",
       "                }\n",
       "            </style>\n",
       "            "
      ],
      "text/plain": [
       "<IPython.core.display.HTML object>"
      ]
     },
     "metadata": {},
     "output_type": "display_data"
    },
    {
     "data": {
      "text/html": [
       "<div>\n",
       "<style scoped>\n",
       "    .dataframe tbody tr th:only-of-type {\n",
       "        vertical-align: middle;\n",
       "    }\n",
       "\n",
       "    .dataframe tbody tr th {\n",
       "        vertical-align: top;\n",
       "    }\n",
       "\n",
       "    .dataframe thead th {\n",
       "        text-align: right;\n",
       "    }\n",
       "</style>\n",
       "<table border=\"1\" class=\"dataframe\">\n",
       "  <thead>\n",
       "    <tr style=\"text-align: right;\">\n",
       "      <th></th>\n",
       "      <th>fecha</th>\n",
       "      <th>similaridad</th>\n",
       "      <th>area</th>\n",
       "      <th>centroide</th>\n",
       "      <th>poligono</th>\n",
       "    </tr>\n",
       "  </thead>\n",
       "  <tbody>\n",
       "    <tr>\n",
       "      <th>0</th>\n",
       "      <td>2020-06-01</td>\n",
       "      <td>0.932003</td>\n",
       "      <td>1.037304e+08</td>\n",
       "      <td>[-105.86525521394688, -74.48449116122524]</td>\n",
       "      <td>ee.FeatureCollection({\\n  \"functionInvocationV...</td>\n",
       "    </tr>\n",
       "    <tr>\n",
       "      <th>1</th>\n",
       "      <td>2020-06-03</td>\n",
       "      <td>0.981319</td>\n",
       "      <td>9.870384e+07</td>\n",
       "      <td>[-105.86334972554924, -74.47764400226751]</td>\n",
       "      <td>ee.FeatureCollection({\\n  \"functionInvocationV...</td>\n",
       "    </tr>\n",
       "    <tr>\n",
       "      <th>2</th>\n",
       "      <td>2020-06-05</td>\n",
       "      <td>0.786187</td>\n",
       "      <td>9.774550e+07</td>\n",
       "      <td>[-105.91744769199555, -74.45022949058462]</td>\n",
       "      <td>ee.FeatureCollection({\\n  \"functionInvocationV...</td>\n",
       "    </tr>\n",
       "    <tr>\n",
       "      <th>3</th>\n",
       "      <td>2020-06-09</td>\n",
       "      <td>0.929227</td>\n",
       "      <td>9.639895e+07</td>\n",
       "      <td>[-106.12422360557987, -74.34985659867654]</td>\n",
       "      <td>ee.FeatureCollection({\\n  \"functionInvocationV...</td>\n",
       "    </tr>\n",
       "    <tr>\n",
       "      <th>4</th>\n",
       "      <td>2020-06-11</td>\n",
       "      <td>0.863898</td>\n",
       "      <td>8.929794e+07</td>\n",
       "      <td>[-106.1639121063222, -74.37201709532167]</td>\n",
       "      <td>ee.FeatureCollection({\\n  \"functionInvocationV...</td>\n",
       "    </tr>\n",
       "    <tr>\n",
       "      <th>5</th>\n",
       "      <td>2020-06-13</td>\n",
       "      <td>0.932216</td>\n",
       "      <td>9.887900e+07</td>\n",
       "      <td>[-106.07841232186726, -74.38947607962689]</td>\n",
       "      <td>ee.FeatureCollection({\\n  \"functionInvocationV...</td>\n",
       "    </tr>\n",
       "    <tr>\n",
       "      <th>6</th>\n",
       "      <td>2020-06-15</td>\n",
       "      <td>0.936059</td>\n",
       "      <td>9.870263e+07</td>\n",
       "      <td>[-106.06671642133074, -74.39021344895245]</td>\n",
       "      <td>ee.FeatureCollection({\\n  \"functionInvocationV...</td>\n",
       "    </tr>\n",
       "    <tr>\n",
       "      <th>7</th>\n",
       "      <td>2020-06-17</td>\n",
       "      <td>0.906277</td>\n",
       "      <td>9.567103e+07</td>\n",
       "      <td>[-106.14460401232998, -74.37959027958881]</td>\n",
       "      <td>ee.FeatureCollection({\\n  \"functionInvocationV...</td>\n",
       "    </tr>\n",
       "  </tbody>\n",
       "</table>\n",
       "</div>"
      ],
      "text/plain": [
       "        fecha  similaridad          area  \\\n",
       "0  2020-06-01     0.932003  1.037304e+08   \n",
       "1  2020-06-03     0.981319  9.870384e+07   \n",
       "2  2020-06-05     0.786187  9.774550e+07   \n",
       "3  2020-06-09     0.929227  9.639895e+07   \n",
       "4  2020-06-11     0.863898  8.929794e+07   \n",
       "5  2020-06-13     0.932216  9.887900e+07   \n",
       "6  2020-06-15     0.936059  9.870263e+07   \n",
       "7  2020-06-17     0.906277  9.567103e+07   \n",
       "\n",
       "                                   centroide  \\\n",
       "0  [-105.86525521394688, -74.48449116122524]   \n",
       "1  [-105.86334972554924, -74.47764400226751]   \n",
       "2  [-105.91744769199555, -74.45022949058462]   \n",
       "3  [-106.12422360557987, -74.34985659867654]   \n",
       "4   [-106.1639121063222, -74.37201709532167]   \n",
       "5  [-106.07841232186726, -74.38947607962689]   \n",
       "6  [-106.06671642133074, -74.39021344895245]   \n",
       "7  [-106.14460401232998, -74.37959027958881]   \n",
       "\n",
       "                                            poligono  \n",
       "0  ee.FeatureCollection({\\n  \"functionInvocationV...  \n",
       "1  ee.FeatureCollection({\\n  \"functionInvocationV...  \n",
       "2  ee.FeatureCollection({\\n  \"functionInvocationV...  \n",
       "3  ee.FeatureCollection({\\n  \"functionInvocationV...  \n",
       "4  ee.FeatureCollection({\\n  \"functionInvocationV...  \n",
       "5  ee.FeatureCollection({\\n  \"functionInvocationV...  \n",
       "6  ee.FeatureCollection({\\n  \"functionInvocationV...  \n",
       "7  ee.FeatureCollection({\\n  \"functionInvocationV...  "
      ]
     },
     "execution_count": 29,
     "metadata": {},
     "output_type": "execute_result"
    }
   ],
   "source": [
    "df_iceberg"
   ]
  },
  {
   "cell_type": "markdown",
   "metadata": {},
   "source": [
    "La ruta del archivo de modificaria dependiendo del trackeo realizado, ahora se muestra con 'ejemplo.csv'. Los csv necesarios para el estudio ya deberian estar guardados."
   ]
  },
  {
   "cell_type": "code",
   "execution_count": 28,
   "metadata": {},
   "outputs": [
    {
     "data": {
      "text/html": [
       "\n",
       "            <style>\n",
       "                .geemap-dark {\n",
       "                    --jp-widgets-color: white;\n",
       "                    --jp-widgets-label-color: white;\n",
       "                    --jp-ui-font-color1: white;\n",
       "                    --jp-layout-color2: #454545;\n",
       "                    background-color: #383838;\n",
       "                }\n",
       "\n",
       "                .geemap-dark .jupyter-button {\n",
       "                    --jp-layout-color3: #383838;\n",
       "                }\n",
       "\n",
       "                .geemap-colab {\n",
       "                    background-color: var(--colab-primary-surface-color, white);\n",
       "                }\n",
       "\n",
       "                .geemap-colab .jupyter-button {\n",
       "                    --jp-layout-color3: var(--colab-primary-surface-color, white);\n",
       "                }\n",
       "            </style>\n",
       "            "
      ],
      "text/plain": [
       "<IPython.core.display.HTML object>"
      ]
     },
     "metadata": {},
     "output_type": "display_data"
    }
   ],
   "source": [
    "ruta_archivo = 'ejemplo.csv' \n",
    "df_iceberg.to_csv(ruta_archivo, index=False, sep='&')"
   ]
  },
  {
   "cell_type": "markdown",
   "metadata": {},
   "source": [
    "El siguiente mapa interactivo muestra las 7 primeras fechas del iceberg. (las geomedianas pueden perturbar un poco las imagenes)"
   ]
  },
  {
   "cell_type": "code",
   "execution_count": 37,
   "metadata": {},
   "outputs": [
    {
     "data": {
      "text/html": [
       "\n",
       "            <style>\n",
       "                .geemap-dark {\n",
       "                    --jp-widgets-color: white;\n",
       "                    --jp-widgets-label-color: white;\n",
       "                    --jp-ui-font-color1: white;\n",
       "                    --jp-layout-color2: #454545;\n",
       "                    background-color: #383838;\n",
       "                }\n",
       "\n",
       "                .geemap-dark .jupyter-button {\n",
       "                    --jp-layout-color3: #383838;\n",
       "                }\n",
       "\n",
       "                .geemap-colab {\n",
       "                    background-color: var(--colab-primary-surface-color, white);\n",
       "                }\n",
       "\n",
       "                .geemap-colab .jupyter-button {\n",
       "                    --jp-layout-color3: var(--colab-primary-surface-color, white);\n",
       "                }\n",
       "            </style>\n",
       "            "
      ],
      "text/plain": [
       "<IPython.core.display.HTML object>"
      ]
     },
     "metadata": {},
     "output_type": "display_data"
    },
    {
     "data": {
      "application/vnd.jupyter.widget-view+json": {
       "model_id": "5d90bb90c89a462f8391f6d965a2a43e",
       "version_major": 2,
       "version_minor": 0
      },
      "text/plain": [
       "Map(center=[-74.37959027958881, -106.14460401232998], controls=(WidgetControl(options=['position', 'transparen…"
      ]
     },
     "metadata": {},
     "output_type": "display_data"
    }
   ],
   "source": [
    "Map = geemap.Map(center= [centroid[1], centroid[0]], zoom = 10)\n",
    "\n",
    "polygon_style = {'color': 'red', 'fillColor': 'red', 'fillOpacity': 0.5}\n",
    "point_style = {'color': 'blue', 'pointSize': 5}\n",
    "for i, row in df_iceberg.iterrows():\n",
    "    fecha_inicio = row['fecha']\n",
    "    fecha_fin = (dt.datetime.strptime(fecha_inicio, \"%Y-%m-%d\") + dt.timedelta(days=2)).strftime(\"%Y-%m-%d\")\n",
    "\n",
    "    S1A = ee.ImageCollection(\"COPERNICUS/S1_GRD\")\\\n",
    "    .filterDate(fecha_inicio, fecha_fin)\\\n",
    "    .filterBounds(aoi)\\\n",
    "    .filter(ee.Filter.listContains('transmitterReceiverPolarisation', \"HH\"))\n",
    "\n",
    "    band = [\"HH\", \"angle\"]\n",
    "    img = S1A.select(band).mean()\n",
    "\n",
    "    vis_seg = {'bands': [\"HH\"], 'min': -30, 'max': 0}\n",
    "    Map.addLayer(img, vis_seg, f'sat{i}')\n",
    "\n",
    "    variable = row.poligono\n",
    "    Map.addLayer(variable, polygon_style, f'ice{i}')\n",
    "    centroide_ee = ee.Geometry.Point(row['centroide'])\n",
    "    Map.addLayer(centroide_ee, point_style, f'centro-ice{i}')\n",
    "\n",
    "Map.addLayerControl()\n",
    "Map"
   ]
  },
  {
   "cell_type": "markdown",
   "metadata": {},
   "source": [
    "El siguiente mapa interactivo demuestra un poco como funciona el area de busqueda circular para cada iceberg, hay que tomar en cuenta que cuando el iceberg se mueve mas rapido de lo esperado, esta area se aumenta hasta que logre encapsular el iceberg nuevamente."
   ]
  },
  {
   "cell_type": "code",
   "execution_count": 40,
   "metadata": {},
   "outputs": [
    {
     "data": {
      "text/html": [
       "\n",
       "            <style>\n",
       "                .geemap-dark {\n",
       "                    --jp-widgets-color: white;\n",
       "                    --jp-widgets-label-color: white;\n",
       "                    --jp-ui-font-color1: white;\n",
       "                    --jp-layout-color2: #454545;\n",
       "                    background-color: #383838;\n",
       "                }\n",
       "\n",
       "                .geemap-dark .jupyter-button {\n",
       "                    --jp-layout-color3: #383838;\n",
       "                }\n",
       "\n",
       "                .geemap-colab {\n",
       "                    background-color: var(--colab-primary-surface-color, white);\n",
       "                }\n",
       "\n",
       "                .geemap-colab .jupyter-button {\n",
       "                    --jp-layout-color3: var(--colab-primary-surface-color, white);\n",
       "                }\n",
       "            </style>\n",
       "            "
      ],
      "text/plain": [
       "<IPython.core.display.HTML object>"
      ]
     },
     "metadata": {},
     "output_type": "display_data"
    },
    {
     "data": {
      "application/vnd.jupyter.widget-view+json": {
       "model_id": "ba5f20111da1404b83346ee6916a5997",
       "version_major": 2,
       "version_minor": 0
      },
      "text/plain": [
       "Map(center=[-74.37959027958881, -106.14460401232998], controls=(WidgetControl(options=['position', 'transparen…"
      ]
     },
     "metadata": {},
     "output_type": "display_data"
    }
   ],
   "source": [
    "\n",
    "Map = geemap.Map(center= [centroid[1], centroid[0]], zoom = 10)\n",
    "\n",
    "#el area de busqueda con radio 20 km\n",
    "buf_dist = 20000\n",
    "\n",
    "polygon_style = {'color': 'red', 'fillColor': 'red', 'fillOpacity': 0.5}\n",
    "point_style = {'color': 'blue', 'pointSize': 5}\n",
    "for i, row in df_iceberg.iterrows():\n",
    "    fecha_inicio = row['fecha']\n",
    "    fecha_fin = (dt.datetime.strptime(fecha_inicio, \"%Y-%m-%d\") + dt.timedelta(days=2)).strftime(\"%Y-%m-%d\")\n",
    "\n",
    "    aoi = ee.Geometry.Point([row['centroide'][0], row['centroide'][1]]).buffer(buf_dist)\n",
    "\n",
    "    S1A = ee.ImageCollection(\"COPERNICUS/S1_GRD\")\\\n",
    "    .filterDate(fecha_inicio, fecha_fin)\\\n",
    "    .filterBounds(aoi)\\\n",
    "    .filter(ee.Filter.listContains('transmitterReceiverPolarisation', \"HH\"))\n",
    "\n",
    "    band = [\"HH\", \"angle\"]\n",
    "    img = S1A.select(band).mean().clip(aoi)\n",
    "\n",
    "    vis_seg = {'bands': [\"HH\"], 'min': -30, 'max': 0}\n",
    "    Map.addLayer(img, vis_seg, f'sat{i}')\n",
    "\n",
    "    variable = row.poligono\n",
    "    Map.addLayer(variable, polygon_style, f'ice{i}')\n",
    "    centroide_ee = ee.Geometry.Point(row['centroide'])\n",
    "    Map.addLayer(centroide_ee, point_style, f'centro-ice{i}')\n",
    "\n",
    "Map.addLayerControl()\n",
    "Map"
   ]
  },
  {
   "cell_type": "code",
   "execution_count": null,
   "metadata": {},
   "outputs": [],
   "source": []
  },
  {
   "cell_type": "code",
   "execution_count": null,
   "metadata": {},
   "outputs": [],
   "source": []
  },
  {
   "cell_type": "code",
   "execution_count": null,
   "metadata": {},
   "outputs": [],
   "source": []
  },
  {
   "cell_type": "code",
   "execution_count": 71,
   "metadata": {},
   "outputs": [
    {
     "data": {
      "text/html": [
       "\n",
       "            <style>\n",
       "                .geemap-dark {\n",
       "                    --jp-widgets-color: white;\n",
       "                    --jp-widgets-label-color: white;\n",
       "                    --jp-ui-font-color1: white;\n",
       "                    --jp-layout-color2: #454545;\n",
       "                    background-color: #383838;\n",
       "                }\n",
       "\n",
       "                .geemap-dark .jupyter-button {\n",
       "                    --jp-layout-color3: #383838;\n",
       "                }\n",
       "\n",
       "                .geemap-colab {\n",
       "                    background-color: var(--colab-primary-surface-color, white);\n",
       "                }\n",
       "\n",
       "                .geemap-colab .jupyter-button {\n",
       "                    --jp-layout-color3: var(--colab-primary-surface-color, white);\n",
       "                }\n",
       "            </style>\n",
       "            "
      ],
      "text/plain": [
       "<IPython.core.display.HTML object>"
      ]
     },
     "metadata": {},
     "output_type": "display_data"
    },
    {
     "data": {
      "text/html": [
       "<div>\n",
       "<style scoped>\n",
       "    .dataframe tbody tr th:only-of-type {\n",
       "        vertical-align: middle;\n",
       "    }\n",
       "\n",
       "    .dataframe tbody tr th {\n",
       "        vertical-align: top;\n",
       "    }\n",
       "\n",
       "    .dataframe thead th {\n",
       "        text-align: right;\n",
       "    }\n",
       "</style>\n",
       "<table border=\"1\" class=\"dataframe\">\n",
       "  <thead>\n",
       "    <tr style=\"text-align: right;\">\n",
       "      <th></th>\n",
       "      <th>fecha</th>\n",
       "      <th>similaridad</th>\n",
       "      <th>area</th>\n",
       "      <th>centroide</th>\n",
       "      <th>poligono</th>\n",
       "      <th>source</th>\n",
       "      <th>covers</th>\n",
       "    </tr>\n",
       "  </thead>\n",
       "  <tbody>\n",
       "    <tr>\n",
       "      <th>0</th>\n",
       "      <td>2020-06-01</td>\n",
       "      <td>0.853959</td>\n",
       "      <td>1.011406e+08</td>\n",
       "      <td>[-105.85692458022025, -74.4847173305595]</td>\n",
       "      <td>ee.FeatureCollection({\\n  \"functionInvocationV...</td>\n",
       "      <td>ee.Image({\\n  \"functionInvocationValue\": {\\n  ...</td>\n",
       "      <td>ee.Image({\\n  \"functionInvocationValue\": {\\n  ...</td>\n",
       "    </tr>\n",
       "    <tr>\n",
       "      <th>1</th>\n",
       "      <td>2020-06-06</td>\n",
       "      <td>0.890917</td>\n",
       "      <td>1.049709e+08</td>\n",
       "      <td>[-105.9198679208885, -74.44201168227734]</td>\n",
       "      <td>ee.FeatureCollection({\\n  \"functionInvocationV...</td>\n",
       "      <td>ee.Image({\\n  \"functionInvocationValue\": {\\n  ...</td>\n",
       "      <td>ee.Image({\\n  \"functionInvocationValue\": {\\n  ...</td>\n",
       "    </tr>\n",
       "    <tr>\n",
       "      <th>2</th>\n",
       "      <td>2020-06-11</td>\n",
       "      <td>0.914884</td>\n",
       "      <td>1.001686e+08</td>\n",
       "      <td>[-106.17683309386793, -74.34499706400955]</td>\n",
       "      <td>ee.FeatureCollection({\\n  \"functionInvocationV...</td>\n",
       "      <td>ee.Image({\\n  \"functionInvocationValue\": {\\n  ...</td>\n",
       "      <td>ee.Image({\\n  \"functionInvocationValue\": {\\n  ...</td>\n",
       "    </tr>\n",
       "    <tr>\n",
       "      <th>3</th>\n",
       "      <td>2020-06-16</td>\n",
       "      <td>0.952962</td>\n",
       "      <td>9.852995e+07</td>\n",
       "      <td>[-105.33165233951375, -74.40811010064519]</td>\n",
       "      <td>ee.FeatureCollection({\\n  \"functionInvocationV...</td>\n",
       "      <td>ee.Image({\\n  \"functionInvocationValue\": {\\n  ...</td>\n",
       "      <td>ee.Image({\\n  \"functionInvocationValue\": {\\n  ...</td>\n",
       "    </tr>\n",
       "    <tr>\n",
       "      <th>4</th>\n",
       "      <td>2020-06-16</td>\n",
       "      <td>0.952962</td>\n",
       "      <td>9.852995e+07</td>\n",
       "      <td>[-105.33165233951375, -74.40811010064519]</td>\n",
       "      <td>ee.FeatureCollection({\\n  \"functionInvocationV...</td>\n",
       "      <td>ee.Image({\\n  \"functionInvocationValue\": {\\n  ...</td>\n",
       "      <td>ee.Image({\\n  \"functionInvocationValue\": {\\n  ...</td>\n",
       "    </tr>\n",
       "    <tr>\n",
       "      <th>...</th>\n",
       "      <td>...</td>\n",
       "      <td>...</td>\n",
       "      <td>...</td>\n",
       "      <td>...</td>\n",
       "      <td>...</td>\n",
       "      <td>...</td>\n",
       "      <td>...</td>\n",
       "    </tr>\n",
       "    <tr>\n",
       "      <th>59</th>\n",
       "      <td>2021-05-02</td>\n",
       "      <td>0.782506</td>\n",
       "      <td>9.477398e+07</td>\n",
       "      <td>[-113.00345675402097, -72.33341727049034]</td>\n",
       "      <td>ee.FeatureCollection({\\n  \"functionInvocationV...</td>\n",
       "      <td>ee.Image({\\n  \"functionInvocationValue\": {\\n  ...</td>\n",
       "      <td>ee.Image({\\n  \"functionInvocationValue\": {\\n  ...</td>\n",
       "    </tr>\n",
       "    <tr>\n",
       "      <th>60</th>\n",
       "      <td>2021-05-07</td>\n",
       "      <td>0.829768</td>\n",
       "      <td>9.558847e+07</td>\n",
       "      <td>[-113.17839911855751, -72.33378301757487]</td>\n",
       "      <td>ee.FeatureCollection({\\n  \"functionInvocationV...</td>\n",
       "      <td>ee.Image({\\n  \"functionInvocationValue\": {\\n  ...</td>\n",
       "      <td>ee.Image({\\n  \"functionInvocationValue\": {\\n  ...</td>\n",
       "    </tr>\n",
       "    <tr>\n",
       "      <th>61</th>\n",
       "      <td>2021-05-12</td>\n",
       "      <td>0.801658</td>\n",
       "      <td>9.220334e+07</td>\n",
       "      <td>[-113.1720956079102, -72.24707758654496]</td>\n",
       "      <td>ee.FeatureCollection({\\n  \"functionInvocationV...</td>\n",
       "      <td>ee.Image({\\n  \"functionInvocationValue\": {\\n  ...</td>\n",
       "      <td>ee.Image({\\n  \"functionInvocationValue\": {\\n  ...</td>\n",
       "    </tr>\n",
       "    <tr>\n",
       "      <th>62</th>\n",
       "      <td>2021-05-12</td>\n",
       "      <td>0.801658</td>\n",
       "      <td>9.220334e+07</td>\n",
       "      <td>[-113.1720956079102, -72.24707758654496]</td>\n",
       "      <td>ee.FeatureCollection({\\n  \"functionInvocationV...</td>\n",
       "      <td>ee.Image({\\n  \"functionInvocationValue\": {\\n  ...</td>\n",
       "      <td>ee.Image({\\n  \"functionInvocationValue\": {\\n  ...</td>\n",
       "    </tr>\n",
       "    <tr>\n",
       "      <th>63</th>\n",
       "      <td>2021-05-12</td>\n",
       "      <td>0.801658</td>\n",
       "      <td>9.220334e+07</td>\n",
       "      <td>[-113.1720956079102, -72.24707758654496]</td>\n",
       "      <td>ee.FeatureCollection({\\n  \"functionInvocationV...</td>\n",
       "      <td>ee.Image({\\n  \"functionInvocationValue\": {\\n  ...</td>\n",
       "      <td>ee.Image({\\n  \"functionInvocationValue\": {\\n  ...</td>\n",
       "    </tr>\n",
       "  </tbody>\n",
       "</table>\n",
       "<p>64 rows × 7 columns</p>\n",
       "</div>"
      ],
      "text/plain": [
       "         fecha  similaridad          area  \\\n",
       "0   2020-06-01     0.853959  1.011406e+08   \n",
       "1   2020-06-06     0.890917  1.049709e+08   \n",
       "2   2020-06-11     0.914884  1.001686e+08   \n",
       "3   2020-06-16     0.952962  9.852995e+07   \n",
       "4   2020-06-16     0.952962  9.852995e+07   \n",
       "..         ...          ...           ...   \n",
       "59  2021-05-02     0.782506  9.477398e+07   \n",
       "60  2021-05-07     0.829768  9.558847e+07   \n",
       "61  2021-05-12     0.801658  9.220334e+07   \n",
       "62  2021-05-12     0.801658  9.220334e+07   \n",
       "63  2021-05-12     0.801658  9.220334e+07   \n",
       "\n",
       "                                    centroide  \\\n",
       "0    [-105.85692458022025, -74.4847173305595]   \n",
       "1    [-105.9198679208885, -74.44201168227734]   \n",
       "2   [-106.17683309386793, -74.34499706400955]   \n",
       "3   [-105.33165233951375, -74.40811010064519]   \n",
       "4   [-105.33165233951375, -74.40811010064519]   \n",
       "..                                        ...   \n",
       "59  [-113.00345675402097, -72.33341727049034]   \n",
       "60  [-113.17839911855751, -72.33378301757487]   \n",
       "61   [-113.1720956079102, -72.24707758654496]   \n",
       "62   [-113.1720956079102, -72.24707758654496]   \n",
       "63   [-113.1720956079102, -72.24707758654496]   \n",
       "\n",
       "                                             poligono  \\\n",
       "0   ee.FeatureCollection({\\n  \"functionInvocationV...   \n",
       "1   ee.FeatureCollection({\\n  \"functionInvocationV...   \n",
       "2   ee.FeatureCollection({\\n  \"functionInvocationV...   \n",
       "3   ee.FeatureCollection({\\n  \"functionInvocationV...   \n",
       "4   ee.FeatureCollection({\\n  \"functionInvocationV...   \n",
       "..                                                ...   \n",
       "59  ee.FeatureCollection({\\n  \"functionInvocationV...   \n",
       "60  ee.FeatureCollection({\\n  \"functionInvocationV...   \n",
       "61  ee.FeatureCollection({\\n  \"functionInvocationV...   \n",
       "62  ee.FeatureCollection({\\n  \"functionInvocationV...   \n",
       "63  ee.FeatureCollection({\\n  \"functionInvocationV...   \n",
       "\n",
       "                                               source  \\\n",
       "0   ee.Image({\\n  \"functionInvocationValue\": {\\n  ...   \n",
       "1   ee.Image({\\n  \"functionInvocationValue\": {\\n  ...   \n",
       "2   ee.Image({\\n  \"functionInvocationValue\": {\\n  ...   \n",
       "3   ee.Image({\\n  \"functionInvocationValue\": {\\n  ...   \n",
       "4   ee.Image({\\n  \"functionInvocationValue\": {\\n  ...   \n",
       "..                                                ...   \n",
       "59  ee.Image({\\n  \"functionInvocationValue\": {\\n  ...   \n",
       "60  ee.Image({\\n  \"functionInvocationValue\": {\\n  ...   \n",
       "61  ee.Image({\\n  \"functionInvocationValue\": {\\n  ...   \n",
       "62  ee.Image({\\n  \"functionInvocationValue\": {\\n  ...   \n",
       "63  ee.Image({\\n  \"functionInvocationValue\": {\\n  ...   \n",
       "\n",
       "                                               covers  \n",
       "0   ee.Image({\\n  \"functionInvocationValue\": {\\n  ...  \n",
       "1   ee.Image({\\n  \"functionInvocationValue\": {\\n  ...  \n",
       "2   ee.Image({\\n  \"functionInvocationValue\": {\\n  ...  \n",
       "3   ee.Image({\\n  \"functionInvocationValue\": {\\n  ...  \n",
       "4   ee.Image({\\n  \"functionInvocationValue\": {\\n  ...  \n",
       "..                                                ...  \n",
       "59  ee.Image({\\n  \"functionInvocationValue\": {\\n  ...  \n",
       "60  ee.Image({\\n  \"functionInvocationValue\": {\\n  ...  \n",
       "61  ee.Image({\\n  \"functionInvocationValue\": {\\n  ...  \n",
       "62  ee.Image({\\n  \"functionInvocationValue\": {\\n  ...  \n",
       "63  ee.Image({\\n  \"functionInvocationValue\": {\\n  ...  \n",
       "\n",
       "[64 rows x 7 columns]"
      ]
     },
     "execution_count": 71,
     "metadata": {},
     "output_type": "execute_result"
    }
   ],
   "source": [
    "df_iceberg"
   ]
  },
  {
   "cell_type": "code",
   "execution_count": 72,
   "metadata": {},
   "outputs": [
    {
     "data": {
      "text/html": [
       "\n",
       "            <style>\n",
       "                .geemap-dark {\n",
       "                    --jp-widgets-color: white;\n",
       "                    --jp-widgets-label-color: white;\n",
       "                    --jp-ui-font-color1: white;\n",
       "                    --jp-layout-color2: #454545;\n",
       "                    background-color: #383838;\n",
       "                }\n",
       "\n",
       "                .geemap-dark .jupyter-button {\n",
       "                    --jp-layout-color3: #383838;\n",
       "                }\n",
       "\n",
       "                .geemap-colab {\n",
       "                    background-color: var(--colab-primary-surface-color, white);\n",
       "                }\n",
       "\n",
       "                .geemap-colab .jupyter-button {\n",
       "                    --jp-layout-color3: var(--colab-primary-surface-color, white);\n",
       "                }\n",
       "            </style>\n",
       "            "
      ],
      "text/plain": [
       "<IPython.core.display.HTML object>"
      ]
     },
     "metadata": {},
     "output_type": "display_data"
    }
   ],
   "source": [
    "df_iceberg.to_csv('0004_06_01__05_12.csv', index=False, sep='&')"
   ]
  }
 ],
 "metadata": {
  "kernelspec": {
   "display_name": "test",
   "language": "python",
   "name": "python3"
  },
  "language_info": {
   "codemirror_mode": {
    "name": "ipython",
    "version": 3
   },
   "file_extension": ".py",
   "mimetype": "text/x-python",
   "name": "python",
   "nbconvert_exporter": "python",
   "pygments_lexer": "ipython3",
   "version": "3.9.19"
  }
 },
 "nbformat": 4,
 "nbformat_minor": 2
}
